{
 "cells": [
  {
   "cell_type": "code",
   "execution_count": 1,
   "metadata": {},
   "outputs": [],
   "source": [
    "import pandas as pd\n",
    "import numpy as np"
   ]
  },
  {
   "cell_type": "code",
   "execution_count": 2,
   "metadata": {},
   "outputs": [],
   "source": [
    "data = pd.read_csv(\"/home/user/Downloads/vgsales.csv\")"
   ]
  },
  {
   "cell_type": "code",
   "execution_count": 3,
   "metadata": {},
   "outputs": [
    {
     "data": {
      "text/html": [
       "<div>\n",
       "<style scoped>\n",
       "    .dataframe tbody tr th:only-of-type {\n",
       "        vertical-align: middle;\n",
       "    }\n",
       "\n",
       "    .dataframe tbody tr th {\n",
       "        vertical-align: top;\n",
       "    }\n",
       "\n",
       "    .dataframe thead th {\n",
       "        text-align: right;\n",
       "    }\n",
       "</style>\n",
       "<table border=\"1\" class=\"dataframe\">\n",
       "  <thead>\n",
       "    <tr style=\"text-align: right;\">\n",
       "      <th></th>\n",
       "      <th>Rank</th>\n",
       "      <th>Name</th>\n",
       "      <th>Platform</th>\n",
       "      <th>Year</th>\n",
       "      <th>Genre</th>\n",
       "      <th>Publisher</th>\n",
       "      <th>NA_Sales</th>\n",
       "      <th>EU_Sales</th>\n",
       "      <th>JP_Sales</th>\n",
       "      <th>Other_Sales</th>\n",
       "      <th>Global_Sales</th>\n",
       "    </tr>\n",
       "  </thead>\n",
       "  <tbody>\n",
       "    <tr>\n",
       "      <th>0</th>\n",
       "      <td>1</td>\n",
       "      <td>Wii Sports</td>\n",
       "      <td>Wii</td>\n",
       "      <td>2006.0</td>\n",
       "      <td>Sports</td>\n",
       "      <td>Nintendo</td>\n",
       "      <td>41.49</td>\n",
       "      <td>29.02</td>\n",
       "      <td>3.77</td>\n",
       "      <td>8.46</td>\n",
       "      <td>82.74</td>\n",
       "    </tr>\n",
       "    <tr>\n",
       "      <th>1</th>\n",
       "      <td>2</td>\n",
       "      <td>Super Mario Bros.</td>\n",
       "      <td>NES</td>\n",
       "      <td>1985.0</td>\n",
       "      <td>Platform</td>\n",
       "      <td>Nintendo</td>\n",
       "      <td>29.08</td>\n",
       "      <td>3.58</td>\n",
       "      <td>6.81</td>\n",
       "      <td>0.77</td>\n",
       "      <td>40.24</td>\n",
       "    </tr>\n",
       "    <tr>\n",
       "      <th>2</th>\n",
       "      <td>3</td>\n",
       "      <td>Mario Kart Wii</td>\n",
       "      <td>Wii</td>\n",
       "      <td>2008.0</td>\n",
       "      <td>Racing</td>\n",
       "      <td>Nintendo</td>\n",
       "      <td>15.85</td>\n",
       "      <td>12.88</td>\n",
       "      <td>3.79</td>\n",
       "      <td>3.31</td>\n",
       "      <td>35.82</td>\n",
       "    </tr>\n",
       "    <tr>\n",
       "      <th>3</th>\n",
       "      <td>4</td>\n",
       "      <td>Wii Sports Resort</td>\n",
       "      <td>Wii</td>\n",
       "      <td>2009.0</td>\n",
       "      <td>Sports</td>\n",
       "      <td>Nintendo</td>\n",
       "      <td>15.75</td>\n",
       "      <td>11.01</td>\n",
       "      <td>3.28</td>\n",
       "      <td>2.96</td>\n",
       "      <td>33.00</td>\n",
       "    </tr>\n",
       "    <tr>\n",
       "      <th>4</th>\n",
       "      <td>5</td>\n",
       "      <td>Pokemon Red/Pokemon Blue</td>\n",
       "      <td>GB</td>\n",
       "      <td>1996.0</td>\n",
       "      <td>Role-Playing</td>\n",
       "      <td>Nintendo</td>\n",
       "      <td>11.27</td>\n",
       "      <td>8.89</td>\n",
       "      <td>10.22</td>\n",
       "      <td>1.00</td>\n",
       "      <td>31.37</td>\n",
       "    </tr>\n",
       "  </tbody>\n",
       "</table>\n",
       "</div>"
      ],
      "text/plain": [
       "   Rank                      Name Platform    Year         Genre Publisher  \\\n",
       "0     1                Wii Sports      Wii  2006.0        Sports  Nintendo   \n",
       "1     2         Super Mario Bros.      NES  1985.0      Platform  Nintendo   \n",
       "2     3            Mario Kart Wii      Wii  2008.0        Racing  Nintendo   \n",
       "3     4         Wii Sports Resort      Wii  2009.0        Sports  Nintendo   \n",
       "4     5  Pokemon Red/Pokemon Blue       GB  1996.0  Role-Playing  Nintendo   \n",
       "\n",
       "   NA_Sales  EU_Sales  JP_Sales  Other_Sales  Global_Sales  \n",
       "0     41.49     29.02      3.77         8.46         82.74  \n",
       "1     29.08      3.58      6.81         0.77         40.24  \n",
       "2     15.85     12.88      3.79         3.31         35.82  \n",
       "3     15.75     11.01      3.28         2.96         33.00  \n",
       "4     11.27      8.89     10.22         1.00         31.37  "
      ]
     },
     "execution_count": 3,
     "metadata": {},
     "output_type": "execute_result"
    }
   ],
   "source": [
    "data.head()"
   ]
  },
  {
   "cell_type": "code",
   "execution_count": 4,
   "metadata": {},
   "outputs": [
    {
     "data": {
      "text/plain": [
       "(16598, 11)"
      ]
     },
     "execution_count": 4,
     "metadata": {},
     "output_type": "execute_result"
    }
   ],
   "source": [
    "data.shape"
   ]
  },
  {
   "cell_type": "code",
   "execution_count": 5,
   "metadata": {},
   "outputs": [
    {
     "data": {
      "text/html": [
       "<div>\n",
       "<style scoped>\n",
       "    .dataframe tbody tr th:only-of-type {\n",
       "        vertical-align: middle;\n",
       "    }\n",
       "\n",
       "    .dataframe tbody tr th {\n",
       "        vertical-align: top;\n",
       "    }\n",
       "\n",
       "    .dataframe thead th {\n",
       "        text-align: right;\n",
       "    }\n",
       "</style>\n",
       "<table border=\"1\" class=\"dataframe\">\n",
       "  <thead>\n",
       "    <tr style=\"text-align: right;\">\n",
       "      <th></th>\n",
       "      <th>Rank</th>\n",
       "      <th>Year</th>\n",
       "      <th>NA_Sales</th>\n",
       "      <th>EU_Sales</th>\n",
       "      <th>JP_Sales</th>\n",
       "      <th>Other_Sales</th>\n",
       "      <th>Global_Sales</th>\n",
       "    </tr>\n",
       "  </thead>\n",
       "  <tbody>\n",
       "    <tr>\n",
       "      <th>count</th>\n",
       "      <td>16598.000000</td>\n",
       "      <td>16327.000000</td>\n",
       "      <td>16598.000000</td>\n",
       "      <td>16598.000000</td>\n",
       "      <td>16598.000000</td>\n",
       "      <td>16598.000000</td>\n",
       "      <td>16598.000000</td>\n",
       "    </tr>\n",
       "    <tr>\n",
       "      <th>mean</th>\n",
       "      <td>8300.605254</td>\n",
       "      <td>2006.406443</td>\n",
       "      <td>0.264667</td>\n",
       "      <td>0.146652</td>\n",
       "      <td>0.077782</td>\n",
       "      <td>0.048063</td>\n",
       "      <td>0.537441</td>\n",
       "    </tr>\n",
       "    <tr>\n",
       "      <th>std</th>\n",
       "      <td>4791.853933</td>\n",
       "      <td>5.828981</td>\n",
       "      <td>0.816683</td>\n",
       "      <td>0.505351</td>\n",
       "      <td>0.309291</td>\n",
       "      <td>0.188588</td>\n",
       "      <td>1.555028</td>\n",
       "    </tr>\n",
       "    <tr>\n",
       "      <th>min</th>\n",
       "      <td>1.000000</td>\n",
       "      <td>1980.000000</td>\n",
       "      <td>0.000000</td>\n",
       "      <td>0.000000</td>\n",
       "      <td>0.000000</td>\n",
       "      <td>0.000000</td>\n",
       "      <td>0.010000</td>\n",
       "    </tr>\n",
       "    <tr>\n",
       "      <th>25%</th>\n",
       "      <td>4151.250000</td>\n",
       "      <td>2003.000000</td>\n",
       "      <td>0.000000</td>\n",
       "      <td>0.000000</td>\n",
       "      <td>0.000000</td>\n",
       "      <td>0.000000</td>\n",
       "      <td>0.060000</td>\n",
       "    </tr>\n",
       "    <tr>\n",
       "      <th>50%</th>\n",
       "      <td>8300.500000</td>\n",
       "      <td>2007.000000</td>\n",
       "      <td>0.080000</td>\n",
       "      <td>0.020000</td>\n",
       "      <td>0.000000</td>\n",
       "      <td>0.010000</td>\n",
       "      <td>0.170000</td>\n",
       "    </tr>\n",
       "    <tr>\n",
       "      <th>75%</th>\n",
       "      <td>12449.750000</td>\n",
       "      <td>2010.000000</td>\n",
       "      <td>0.240000</td>\n",
       "      <td>0.110000</td>\n",
       "      <td>0.040000</td>\n",
       "      <td>0.040000</td>\n",
       "      <td>0.470000</td>\n",
       "    </tr>\n",
       "    <tr>\n",
       "      <th>max</th>\n",
       "      <td>16600.000000</td>\n",
       "      <td>2020.000000</td>\n",
       "      <td>41.490000</td>\n",
       "      <td>29.020000</td>\n",
       "      <td>10.220000</td>\n",
       "      <td>10.570000</td>\n",
       "      <td>82.740000</td>\n",
       "    </tr>\n",
       "  </tbody>\n",
       "</table>\n",
       "</div>"
      ],
      "text/plain": [
       "               Rank          Year      NA_Sales      EU_Sales      JP_Sales  \\\n",
       "count  16598.000000  16327.000000  16598.000000  16598.000000  16598.000000   \n",
       "mean    8300.605254   2006.406443      0.264667      0.146652      0.077782   \n",
       "std     4791.853933      5.828981      0.816683      0.505351      0.309291   \n",
       "min        1.000000   1980.000000      0.000000      0.000000      0.000000   \n",
       "25%     4151.250000   2003.000000      0.000000      0.000000      0.000000   \n",
       "50%     8300.500000   2007.000000      0.080000      0.020000      0.000000   \n",
       "75%    12449.750000   2010.000000      0.240000      0.110000      0.040000   \n",
       "max    16600.000000   2020.000000     41.490000     29.020000     10.220000   \n",
       "\n",
       "        Other_Sales  Global_Sales  \n",
       "count  16598.000000  16598.000000  \n",
       "mean       0.048063      0.537441  \n",
       "std        0.188588      1.555028  \n",
       "min        0.000000      0.010000  \n",
       "25%        0.000000      0.060000  \n",
       "50%        0.010000      0.170000  \n",
       "75%        0.040000      0.470000  \n",
       "max       10.570000     82.740000  "
      ]
     },
     "execution_count": 5,
     "metadata": {},
     "output_type": "execute_result"
    }
   ],
   "source": [
    "data.describe()"
   ]
  },
  {
   "cell_type": "code",
   "execution_count": 6,
   "metadata": {},
   "outputs": [
    {
     "data": {
      "text/plain": [
       "Rank              0\n",
       "Name              0\n",
       "Platform          0\n",
       "Year            271\n",
       "Genre             0\n",
       "Publisher        58\n",
       "NA_Sales          0\n",
       "EU_Sales          0\n",
       "JP_Sales          0\n",
       "Other_Sales       0\n",
       "Global_Sales      0\n",
       "dtype: int64"
      ]
     },
     "execution_count": 6,
     "metadata": {},
     "output_type": "execute_result"
    }
   ],
   "source": [
    "data.isna().sum()"
   ]
  },
  {
   "cell_type": "code",
   "execution_count": 7,
   "metadata": {},
   "outputs": [],
   "source": [
    " data['Year']=data['Year'].fillna(data['Year'].mode()[0])"
   ]
  },
  {
   "cell_type": "code",
   "execution_count": 8,
   "metadata": {},
   "outputs": [],
   "source": [
    " data['Publisher']=data['Publisher'].fillna(data['Year'].mode()[0])"
   ]
  },
  {
   "cell_type": "code",
   "execution_count": 9,
   "metadata": {},
   "outputs": [
    {
     "data": {
      "text/plain": [
       "Rank            0\n",
       "Name            0\n",
       "Platform        0\n",
       "Year            0\n",
       "Genre           0\n",
       "Publisher       0\n",
       "NA_Sales        0\n",
       "EU_Sales        0\n",
       "JP_Sales        0\n",
       "Other_Sales     0\n",
       "Global_Sales    0\n",
       "dtype: int64"
      ]
     },
     "execution_count": 9,
     "metadata": {},
     "output_type": "execute_result"
    }
   ],
   "source": [
    "data.isna().sum()"
   ]
  },
  {
   "cell_type": "code",
   "execution_count": 10,
   "metadata": {},
   "outputs": [],
   "source": [
    "#####EDA\n",
    "#1. Game with the most global sales?\n",
    "#2. Best game in 2006?\n",
    "#3. Which publisher has most games?"
   ]
  },
  {
   "cell_type": "code",
   "execution_count": 11,
   "metadata": {},
   "outputs": [
    {
     "data": {
      "text/plain": [
       "Name\n",
       "Wii Sports                                                     82.74\n",
       "Mario Kart Wii                                                 35.82\n",
       "Wii Sports Resort                                              33.00\n",
       "Pokemon Red/Pokemon Blue                                       31.37\n",
       "New Super Mario Bros.                                          30.01\n",
       "                                                               ...  \n",
       "Kurogane Kaikitan                                               0.01\n",
       "Paragon                                                         0.01\n",
       "San-X: Chara Sagashi Land                                       0.01\n",
       "FairlyLife: MiracleDays                                         0.01\n",
       "Coronation Street: The Mystery of the Missing Hotpot Recipe     0.01\n",
       "Name: Global_Sales, Length: 11493, dtype: float64"
      ]
     },
     "execution_count": 11,
     "metadata": {},
     "output_type": "execute_result"
    }
   ],
   "source": [
    "#1\n",
    "best = data.groupby('Name').mean()['Global_Sales']\n",
    "best = best.sort_values(ascending = False)\n",
    "best"
   ]
  },
  {
   "cell_type": "code",
   "execution_count": 12,
   "metadata": {},
   "outputs": [
    {
     "data": {
      "text/plain": [
       "Name\n",
       "Wii Sports                               82.74\n",
       "Wii Sports Resort                        33.00\n",
       "Wii Fit                                  22.72\n",
       "Wii Fit Plus                             22.00\n",
       "Mario & Sonic at the Olympic Games        6.60\n",
       "                                         ...  \n",
       "Fab 5 Soccer                              0.01\n",
       "G1 Jockey 4 2008                          0.01\n",
       "Victory Spike                             0.01\n",
       "Outdoors Unleashed: Africa 3D             0.01\n",
       "The Cages: Pro Style Batting Practice     0.01\n",
       "Name: Global_Sales, Length: 1379, dtype: float64"
      ]
     },
     "execution_count": 12,
     "metadata": {},
     "output_type": "execute_result"
    }
   ],
   "source": [
    "#2\n",
    "data_filterd = data[data['Genre']=='Sports']\n",
    "besspr = data_filterd.groupby('Name').mean()['Global_Sales']\n",
    "besspr = besspr.sort_values(ascending = False)\n",
    "besspr"
   ]
  },
  {
   "cell_type": "code",
   "execution_count": 13,
   "metadata": {},
   "outputs": [
    {
     "data": {
      "text/plain": [
       "Electronic Arts                 1351\n",
       "Activision                       975\n",
       "Namco Bandai Games               932\n",
       "Ubisoft                          921\n",
       "Konami Digital Entertainment     832\n",
       "                                ... \n",
       "New World Computing                1\n",
       "Kool Kizz                          1\n",
       "Fuji                               1\n",
       "Monte Christo Multimedia           1\n",
       "Michaelsoft                        1\n",
       "Name: Publisher, Length: 579, dtype: int64"
      ]
     },
     "execution_count": 13,
     "metadata": {},
     "output_type": "execute_result"
    }
   ],
   "source": [
    "#3\n",
    "data['Publisher'].value_counts().sort_values(ascending = False)"
   ]
  },
  {
   "cell_type": "code",
   "execution_count": 14,
   "metadata": {},
   "outputs": [],
   "source": [
    "import seaborn as sns\n",
    "import matplotlib.pyplot as plt"
   ]
  },
  {
   "cell_type": "code",
   "execution_count": 15,
   "metadata": {},
   "outputs": [
    {
     "data": {
      "text/plain": [
       "Rank              int64\n",
       "Name             object\n",
       "Platform         object\n",
       "Year            float64\n",
       "Genre            object\n",
       "Publisher        object\n",
       "NA_Sales        float64\n",
       "EU_Sales        float64\n",
       "JP_Sales        float64\n",
       "Other_Sales     float64\n",
       "Global_Sales    float64\n",
       "dtype: object"
      ]
     },
     "execution_count": 15,
     "metadata": {},
     "output_type": "execute_result"
    }
   ],
   "source": [
    "data.dtypes"
   ]
  },
  {
   "cell_type": "code",
   "execution_count": 16,
   "metadata": {},
   "outputs": [],
   "source": [
    "numcols = data.dtypes[(data.dtypes=='int64') | (data.dtypes=='float64') ].index"
   ]
  },
  {
   "cell_type": "code",
   "execution_count": 17,
   "metadata": {},
   "outputs": [
    {
     "data": {
      "text/plain": [
       "Index(['Rank', 'Year', 'NA_Sales', 'EU_Sales', 'JP_Sales', 'Other_Sales',\n",
       "       'Global_Sales'],\n",
       "      dtype='object')"
      ]
     },
     "execution_count": 17,
     "metadata": {},
     "output_type": "execute_result"
    }
   ],
   "source": [
    "numcols"
   ]
  },
  {
   "cell_type": "code",
   "execution_count": 18,
   "metadata": {},
   "outputs": [
    {
     "name": "stderr",
     "output_type": "stream",
     "text": [
      "/home/user/anaconda3/lib/python3.8/site-packages/seaborn/_decorators.py:36: FutureWarning: Pass the following variable as a keyword arg: x. From version 0.12, the only valid positional argument will be `data`, and passing other arguments without an explicit keyword will result in an error or misinterpretation.\n",
      "  warnings.warn(\n"
     ]
    },
    {
     "data": {
      "image/png": "[encoded data removed]",
      "text/plain": [
       "<Figure size 432x288 with 1 Axes>"
      ]
     },
     "metadata": {
      "needs_background": "light"
     },
     "output_type": "display_data"
    },
    {
     "name": "stderr",
     "output_type": "stream",
     "text": [
      "/home/user/anaconda3/lib/python3.8/site-packages/seaborn/_decorators.py:36: FutureWarning: Pass the following variable as a keyword arg: x. From version 0.12, the only valid positional argument will be `data`, and passing other arguments without an explicit keyword will result in an error or misinterpretation.\n",
      "  warnings.warn(\n"
     ]
    },
    {
     "data": {
      "image/png": "[encoded data removed]",
      "text/plain": [
       "<Figure size 432x288 with 1 Axes>"
      ]
     },
     "metadata": {
      "needs_background": "light"
     },
     "output_type": "display_data"
    },
    {
     "name": "stderr",
     "output_type": "stream",
     "text": [
      "/home/user/anaconda3/lib/python3.8/site-packages/seaborn/_decorators.py:36: FutureWarning: Pass the following variable as a keyword arg: x. From version 0.12, the only valid positional argument will be `data`, and passing other arguments without an explicit keyword will result in an error or misinterpretation.\n",
      "  warnings.warn(\n"
     ]
    },
    {
     "data": {
      "image/png": "[encoded data removed]",
      "text/plain": [
       "<Figure size 432x288 with 1 Axes>"
      ]
     },
     "metadata": {
      "needs_background": "light"
     },
     "output_type": "display_data"
    },
    {
     "name": "stderr",
     "output_type": "stream",
     "text": [
      "/home/user/anaconda3/lib/python3.8/site-packages/seaborn/_decorators.py:36: FutureWarning: Pass the following variable as a keyword arg: x. From version 0.12, the only valid positional argument will be `data`, and passing other arguments without an explicit keyword will result in an error or misinterpretation.\n",
      "  warnings.warn(\n"
     ]
    },
    {
     "data": {
      "image/png": "[encoded data removed]",
      "text/plain": [
       "<Figure size 432x288 with 1 Axes>"
      ]
     },
     "metadata": {
      "needs_background": "light"
     },
     "output_type": "display_data"
    },
    {
     "name": "stderr",
     "output_type": "stream",
     "text": [
      "/home/user/anaconda3/lib/python3.8/site-packages/seaborn/_decorators.py:36: FutureWarning: Pass the following variable as a keyword arg: x. From version 0.12, the only valid positional argument will be `data`, and passing other arguments without an explicit keyword will result in an error or misinterpretation.\n",
      "  warnings.warn(\n"
     ]
    },
    {
     "data": {
      "image/png": "[encoded data removed]",
      "text/plain": [
       "<Figure size 432x288 with 1 Axes>"
      ]
     },
     "metadata": {
      "needs_background": "light"
     },
     "output_type": "display_data"
    },
    {
     "name": "stderr",
     "output_type": "stream",
     "text": [
      "/home/user/anaconda3/lib/python3.8/site-packages/seaborn/_decorators.py:36: FutureWarning: Pass the following variable as a keyword arg: x. From version 0.12, the only valid positional argument will be `data`, and passing other arguments without an explicit keyword will result in an error or misinterpretation.\n",
      "  warnings.warn(\n"
     ]
    },
    {
     "data": {
      "image/png": "[encoded data removed]",
      "text/plain": [
       "<Figure size 432x288 with 1 Axes>"
      ]
     },
     "metadata": {
      "needs_background": "light"
     },
     "output_type": "display_data"
    },
    {
     "name": "stderr",
     "output_type": "stream",
     "text": [
      "/home/user/anaconda3/lib/python3.8/site-packages/seaborn/_decorators.py:36: FutureWarning: Pass the following variable as a keyword arg: x. From version 0.12, the only valid positional argument will be `data`, and passing other arguments without an explicit keyword will result in an error or misinterpretation.\n",
      "  warnings.warn(\n"
     ]
    },
    {
     "data": {
      "image/png": "[encoded data removed]",
      "text/plain": [
       "<Figure size 432x288 with 1 Axes>"
      ]
     },
     "metadata": {
      "needs_background": "light"
     },
     "output_type": "display_data"
    }
   ],
   "source": [
    "for x in numcols:\n",
    "    sns.boxplot(data[x],orient='h')\n",
    "    plt.title(x)\n",
    "    plt.show()"
   ]
  },
  {
   "cell_type": "code",
   "execution_count": 19,
   "metadata": {},
   "outputs": [
    {
     "name": "stdout",
     "output_type": "stream",
     "text": [
      "Rank\n",
      "Year\n",
      "NA_Sales\n",
      "EU_Sales\n",
      "JP_Sales\n",
      "Other_Sales\n",
      "Global_Sales\n"
     ]
    },
    {
     "name": "stderr",
     "output_type": "stream",
     "text": [
      "<ipython-input-19-13946045a3e2>:7: SettingWithCopyWarning: \n",
      "A value is trying to be set on a copy of a slice from a DataFrame\n",
      "\n",
      "See the caveats in the documentation: https://pandas.pydata.org/pandas-docs/stable/user_guide/indexing.html#returning-a-view-versus-a-copy\n",
      "  data[x][data[x]>upper_limit] = upper_limit\n",
      "<ipython-input-19-13946045a3e2>:8: SettingWithCopyWarning: \n",
      "A value is trying to be set on a copy of a slice from a DataFrame\n",
      "\n",
      "See the caveats in the documentation: https://pandas.pydata.org/pandas-docs/stable/user_guide/indexing.html#returning-a-view-versus-a-copy\n",
      "  data[x][data[x]<lower_limit] = lower_limit\n",
      "<ipython-input-19-13946045a3e2>:7: SettingWithCopyWarning: \n",
      "A value is trying to be set on a copy of a slice from a DataFrame\n",
      "\n",
      "See the caveats in the documentation: https://pandas.pydata.org/pandas-docs/stable/user_guide/indexing.html#returning-a-view-versus-a-copy\n",
      "  data[x][data[x]>upper_limit] = upper_limit\n",
      "<ipython-input-19-13946045a3e2>:8: SettingWithCopyWarning: \n",
      "A value is trying to be set on a copy of a slice from a DataFrame\n",
      "\n",
      "See the caveats in the documentation: https://pandas.pydata.org/pandas-docs/stable/user_guide/indexing.html#returning-a-view-versus-a-copy\n",
      "  data[x][data[x]<lower_limit] = lower_limit\n",
      "<ipython-input-19-13946045a3e2>:7: SettingWithCopyWarning: \n",
      "A value is trying to be set on a copy of a slice from a DataFrame\n",
      "\n",
      "See the caveats in the documentation: https://pandas.pydata.org/pandas-docs/stable/user_guide/indexing.html#returning-a-view-versus-a-copy\n",
      "  data[x][data[x]>upper_limit] = upper_limit\n",
      "<ipython-input-19-13946045a3e2>:8: SettingWithCopyWarning: \n",
      "A value is trying to be set on a copy of a slice from a DataFrame\n",
      "\n",
      "See the caveats in the documentation: https://pandas.pydata.org/pandas-docs/stable/user_guide/indexing.html#returning-a-view-versus-a-copy\n",
      "  data[x][data[x]<lower_limit] = lower_limit\n",
      "<ipython-input-19-13946045a3e2>:7: SettingWithCopyWarning: \n",
      "A value is trying to be set on a copy of a slice from a DataFrame\n",
      "\n",
      "See the caveats in the documentation: https://pandas.pydata.org/pandas-docs/stable/user_guide/indexing.html#returning-a-view-versus-a-copy\n",
      "  data[x][data[x]>upper_limit] = upper_limit\n",
      "<ipython-input-19-13946045a3e2>:8: SettingWithCopyWarning: \n",
      "A value is trying to be set on a copy of a slice from a DataFrame\n",
      "\n",
      "See the caveats in the documentation: https://pandas.pydata.org/pandas-docs/stable/user_guide/indexing.html#returning-a-view-versus-a-copy\n",
      "  data[x][data[x]<lower_limit] = lower_limit\n",
      "<ipython-input-19-13946045a3e2>:7: SettingWithCopyWarning: \n",
      "A value is trying to be set on a copy of a slice from a DataFrame\n",
      "\n",
      "See the caveats in the documentation: https://pandas.pydata.org/pandas-docs/stable/user_guide/indexing.html#returning-a-view-versus-a-copy\n",
      "  data[x][data[x]>upper_limit] = upper_limit\n",
      "<ipython-input-19-13946045a3e2>:8: SettingWithCopyWarning: \n",
      "A value is trying to be set on a copy of a slice from a DataFrame\n",
      "\n",
      "See the caveats in the documentation: https://pandas.pydata.org/pandas-docs/stable/user_guide/indexing.html#returning-a-view-versus-a-copy\n",
      "  data[x][data[x]<lower_limit] = lower_limit\n",
      "<ipython-input-19-13946045a3e2>:7: SettingWithCopyWarning: \n",
      "A value is trying to be set on a copy of a slice from a DataFrame\n",
      "\n",
      "See the caveats in the documentation: https://pandas.pydata.org/pandas-docs/stable/user_guide/indexing.html#returning-a-view-versus-a-copy\n",
      "  data[x][data[x]>upper_limit] = upper_limit\n",
      "<ipython-input-19-13946045a3e2>:8: SettingWithCopyWarning: \n",
      "A value is trying to be set on a copy of a slice from a DataFrame\n",
      "\n",
      "See the caveats in the documentation: https://pandas.pydata.org/pandas-docs/stable/user_guide/indexing.html#returning-a-view-versus-a-copy\n",
      "  data[x][data[x]<lower_limit] = lower_limit\n",
      "<ipython-input-19-13946045a3e2>:7: SettingWithCopyWarning: \n",
      "A value is trying to be set on a copy of a slice from a DataFrame\n",
      "\n",
      "See the caveats in the documentation: https://pandas.pydata.org/pandas-docs/stable/user_guide/indexing.html#returning-a-view-versus-a-copy\n",
      "  data[x][data[x]>upper_limit] = upper_limit\n",
      "<ipython-input-19-13946045a3e2>:8: SettingWithCopyWarning: \n",
      "A value is trying to be set on a copy of a slice from a DataFrame\n",
      "\n",
      "See the caveats in the documentation: https://pandas.pydata.org/pandas-docs/stable/user_guide/indexing.html#returning-a-view-versus-a-copy\n",
      "  data[x][data[x]<lower_limit] = lower_limit\n"
     ]
    }
   ],
   "source": [
    "for x in numcols:\n",
    "    print(x)\n",
    "    descr = data[x].describe()\n",
    "    IQR = descr['75%'] - descr['25%']\n",
    "    upper_limit =  descr['75%'] + 1.5 * IQR\n",
    "    lower_limit =  descr['25%'] - 1.5 * IQR  \n",
    "    data[x][data[x]>upper_limit] = upper_limit\n",
    "    data[x][data[x]<lower_limit] = lower_limit"
   ]
  },
  {
   "cell_type": "code",
   "execution_count": 20,
   "metadata": {},
   "outputs": [
    {
     "name": "stderr",
     "output_type": "stream",
     "text": [
      "/home/user/anaconda3/lib/python3.8/site-packages/seaborn/_decorators.py:36: FutureWarning: Pass the following variable as a keyword arg: x. From version 0.12, the only valid positional argument will be `data`, and passing other arguments without an explicit keyword will result in an error or misinterpretation.\n",
      "  warnings.warn(\n"
     ]
    },
    {
     "data": {
      "image/png": "[encoded data removed]",
      "text/plain": [
       "<Figure size 432x288 with 1 Axes>"
      ]
     },
     "metadata": {
      "needs_background": "light"
     },
     "output_type": "display_data"
    },
    {
     "name": "stderr",
     "output_type": "stream",
     "text": [
      "/home/user/anaconda3/lib/python3.8/site-packages/seaborn/_decorators.py:36: FutureWarning: Pass the following variable as a keyword arg: x. From version 0.12, the only valid positional argument will be `data`, and passing other arguments without an explicit keyword will result in an error or misinterpretation.\n",
      "  warnings.warn(\n"
     ]
    },
    {
     "data": {
      "image/png": "[encoded data removed]",
      "text/plain": [
       "<Figure size 432x288 with 1 Axes>"
      ]
     },
     "metadata": {
      "needs_background": "light"
     },
     "output_type": "display_data"
    },
    {
     "name": "stderr",
     "output_type": "stream",
     "text": [
      "/home/user/anaconda3/lib/python3.8/site-packages/seaborn/_decorators.py:36: FutureWarning: Pass the following variable as a keyword arg: x. From version 0.12, the only valid positional argument will be `data`, and passing other arguments without an explicit keyword will result in an error or misinterpretation.\n",
      "  warnings.warn(\n"
     ]
    },
    {
     "data": {
      "image/png": "[encoded data removed]",
      "text/plain": [
       "<Figure size 432x288 with 1 Axes>"
      ]
     },
     "metadata": {
      "needs_background": "light"
     },
     "output_type": "display_data"
    },
    {
     "name": "stderr",
     "output_type": "stream",
     "text": [
      "/home/user/anaconda3/lib/python3.8/site-packages/seaborn/_decorators.py:36: FutureWarning: Pass the following variable as a keyword arg: x. From version 0.12, the only valid positional argument will be `data`, and passing other arguments without an explicit keyword will result in an error or misinterpretation.\n",
      "  warnings.warn(\n"
     ]
    },
    {
     "data": {
      "image/png": "[encoded data removed]",
      "text/plain": [
       "<Figure size 432x288 with 1 Axes>"
      ]
     },
     "metadata": {
      "needs_background": "light"
     },
     "output_type": "display_data"
    },
    {
     "name": "stderr",
     "output_type": "stream",
     "text": [
      "/home/user/anaconda3/lib/python3.8/site-packages/seaborn/_decorators.py:36: FutureWarning: Pass the following variable as a keyword arg: x. From version 0.12, the only valid positional argument will be `data`, and passing other arguments without an explicit keyword will result in an error or misinterpretation.\n",
      "  warnings.warn(\n"
     ]
    },
    {
     "data": {
      "image/png": "[encoded data removed]",
      "text/plain": [
       "<Figure size 432x288 with 1 Axes>"
      ]
     },
     "metadata": {
      "needs_background": "light"
     },
     "output_type": "display_data"
    },
    {
     "name": "stderr",
     "output_type": "stream",
     "text": [
      "/home/user/anaconda3/lib/python3.8/site-packages/seaborn/_decorators.py:36: FutureWarning: Pass the following variable as a keyword arg: x. From version 0.12, the only valid positional argument will be `data`, and passing other arguments without an explicit keyword will result in an error or misinterpretation.\n",
      "  warnings.warn(\n"
     ]
    },
    {
     "data": {
      "image/png": "[encoded data removed]",
      "text/plain": [
       "<Figure size 432x288 with 1 Axes>"
      ]
     },
     "metadata": {
      "needs_background": "light"
     },
     "output_type": "display_data"
    },
    {
     "name": "stderr",
     "output_type": "stream",
     "text": [
      "/home/user/anaconda3/lib/python3.8/site-packages/seaborn/_decorators.py:36: FutureWarning: Pass the following variable as a keyword arg: x. From version 0.12, the only valid positional argument will be `data`, and passing other arguments without an explicit keyword will result in an error or misinterpretation.\n",
      "  warnings.warn(\n"
     ]
    },
    {
     "data": {
      "image/png": "[encoded data removed]",
      "text/plain": [
       "<Figure size 432x288 with 1 Axes>"
      ]
     },
     "metadata": {
      "needs_background": "light"
     },
     "output_type": "display_data"
    }
   ],
   "source": [
    "for x in numcols:\n",
    "    sns.boxplot(data[x],orient='h')\n",
    "    plt.title(x)\n",
    "    plt.show()"
   ]
  },
  {
   "cell_type": "code",
   "execution_count": 21,
   "metadata": {},
   "outputs": [],
   "source": [
    "data = data.drop(['Name','NA_Sales','EU_Sales','JP_Sales','Other_Sales'],axis=1)\n",
    "#droping sales vales and name"
   ]
  },
  {
   "cell_type": "code",
   "execution_count": 22,
   "metadata": {},
   "outputs": [],
   "source": [
    "data = pd.get_dummies(data,drop_first = True)"
   ]
  },
  {
   "cell_type": "code",
   "execution_count": 23,
   "metadata": {},
   "outputs": [
    {
     "data": {
      "text/html": [
       "<div>\n",
       "<style scoped>\n",
       "    .dataframe tbody tr th:only-of-type {\n",
       "        vertical-align: middle;\n",
       "    }\n",
       "\n",
       "    .dataframe tbody tr th {\n",
       "        vertical-align: top;\n",
       "    }\n",
       "\n",
       "    .dataframe thead th {\n",
       "        text-align: right;\n",
       "    }\n",
       "</style>\n",
       "<table border=\"1\" class=\"dataframe\">\n",
       "  <thead>\n",
       "    <tr style=\"text-align: right;\">\n",
       "      <th></th>\n",
       "      <th>Rank</th>\n",
       "      <th>Year</th>\n",
       "      <th>Global_Sales</th>\n",
       "      <th>Platform_3DO</th>\n",
       "      <th>Platform_3DS</th>\n",
       "      <th>Platform_DC</th>\n",
       "      <th>Platform_DS</th>\n",
       "      <th>Platform_GB</th>\n",
       "      <th>Platform_GBA</th>\n",
       "      <th>Platform_GC</th>\n",
       "      <th>...</th>\n",
       "      <th>Publisher_Zushi Games</th>\n",
       "      <th>Publisher_bitComposer Games</th>\n",
       "      <th>Publisher_dramatic create</th>\n",
       "      <th>Publisher_fonfun</th>\n",
       "      <th>Publisher_iWin</th>\n",
       "      <th>Publisher_id Software</th>\n",
       "      <th>Publisher_imageepoch Inc.</th>\n",
       "      <th>Publisher_inXile Entertainment</th>\n",
       "      <th>Publisher_mixi, Inc</th>\n",
       "      <th>Publisher_responDESIGN</th>\n",
       "    </tr>\n",
       "  </thead>\n",
       "  <tbody>\n",
       "    <tr>\n",
       "      <th>0</th>\n",
       "      <td>1</td>\n",
       "      <td>2006.0</td>\n",
       "      <td>1.085</td>\n",
       "      <td>0</td>\n",
       "      <td>0</td>\n",
       "      <td>0</td>\n",
       "      <td>0</td>\n",
       "      <td>0</td>\n",
       "      <td>0</td>\n",
       "      <td>0</td>\n",
       "      <td>...</td>\n",
       "      <td>0</td>\n",
       "      <td>0</td>\n",
       "      <td>0</td>\n",
       "      <td>0</td>\n",
       "      <td>0</td>\n",
       "      <td>0</td>\n",
       "      <td>0</td>\n",
       "      <td>0</td>\n",
       "      <td>0</td>\n",
       "      <td>0</td>\n",
       "    </tr>\n",
       "    <tr>\n",
       "      <th>1</th>\n",
       "      <td>2</td>\n",
       "      <td>1992.5</td>\n",
       "      <td>1.085</td>\n",
       "      <td>0</td>\n",
       "      <td>0</td>\n",
       "      <td>0</td>\n",
       "      <td>0</td>\n",
       "      <td>0</td>\n",
       "      <td>0</td>\n",
       "      <td>0</td>\n",
       "      <td>...</td>\n",
       "      <td>0</td>\n",
       "      <td>0</td>\n",
       "      <td>0</td>\n",
       "      <td>0</td>\n",
       "      <td>0</td>\n",
       "      <td>0</td>\n",
       "      <td>0</td>\n",
       "      <td>0</td>\n",
       "      <td>0</td>\n",
       "      <td>0</td>\n",
       "    </tr>\n",
       "    <tr>\n",
       "      <th>2</th>\n",
       "      <td>3</td>\n",
       "      <td>2008.0</td>\n",
       "      <td>1.085</td>\n",
       "      <td>0</td>\n",
       "      <td>0</td>\n",
       "      <td>0</td>\n",
       "      <td>0</td>\n",
       "      <td>0</td>\n",
       "      <td>0</td>\n",
       "      <td>0</td>\n",
       "      <td>...</td>\n",
       "      <td>0</td>\n",
       "      <td>0</td>\n",
       "      <td>0</td>\n",
       "      <td>0</td>\n",
       "      <td>0</td>\n",
       "      <td>0</td>\n",
       "      <td>0</td>\n",
       "      <td>0</td>\n",
       "      <td>0</td>\n",
       "      <td>0</td>\n",
       "    </tr>\n",
       "    <tr>\n",
       "      <th>3</th>\n",
       "      <td>4</td>\n",
       "      <td>2009.0</td>\n",
       "      <td>1.085</td>\n",
       "      <td>0</td>\n",
       "      <td>0</td>\n",
       "      <td>0</td>\n",
       "      <td>0</td>\n",
       "      <td>0</td>\n",
       "      <td>0</td>\n",
       "      <td>0</td>\n",
       "      <td>...</td>\n",
       "      <td>0</td>\n",
       "      <td>0</td>\n",
       "      <td>0</td>\n",
       "      <td>0</td>\n",
       "      <td>0</td>\n",
       "      <td>0</td>\n",
       "      <td>0</td>\n",
       "      <td>0</td>\n",
       "      <td>0</td>\n",
       "      <td>0</td>\n",
       "    </tr>\n",
       "    <tr>\n",
       "      <th>4</th>\n",
       "      <td>5</td>\n",
       "      <td>1996.0</td>\n",
       "      <td>1.085</td>\n",
       "      <td>0</td>\n",
       "      <td>0</td>\n",
       "      <td>0</td>\n",
       "      <td>0</td>\n",
       "      <td>1</td>\n",
       "      <td>0</td>\n",
       "      <td>0</td>\n",
       "      <td>...</td>\n",
       "      <td>0</td>\n",
       "      <td>0</td>\n",
       "      <td>0</td>\n",
       "      <td>0</td>\n",
       "      <td>0</td>\n",
       "      <td>0</td>\n",
       "      <td>0</td>\n",
       "      <td>0</td>\n",
       "      <td>0</td>\n",
       "      <td>0</td>\n",
       "    </tr>\n",
       "  </tbody>\n",
       "</table>\n",
       "<p>5 rows × 622 columns</p>\n",
       "</div>"
      ],
      "text/plain": [
       "   Rank    Year  Global_Sales  Platform_3DO  Platform_3DS  Platform_DC  \\\n",
       "0     1  2006.0         1.085             0             0            0   \n",
       "1     2  1992.5         1.085             0             0            0   \n",
       "2     3  2008.0         1.085             0             0            0   \n",
       "3     4  2009.0         1.085             0             0            0   \n",
       "4     5  1996.0         1.085             0             0            0   \n",
       "\n",
       "   Platform_DS  Platform_GB  Platform_GBA  Platform_GC  ...  \\\n",
       "0            0            0             0            0  ...   \n",
       "1            0            0             0            0  ...   \n",
       "2            0            0             0            0  ...   \n",
       "3            0            0             0            0  ...   \n",
       "4            0            1             0            0  ...   \n",
       "\n",
       "   Publisher_Zushi Games  Publisher_bitComposer Games  \\\n",
       "0                      0                            0   \n",
       "1                      0                            0   \n",
       "2                      0                            0   \n",
       "3                      0                            0   \n",
       "4                      0                            0   \n",
       "\n",
       "   Publisher_dramatic create  Publisher_fonfun  Publisher_iWin  \\\n",
       "0                          0                 0               0   \n",
       "1                          0                 0               0   \n",
       "2                          0                 0               0   \n",
       "3                          0                 0               0   \n",
       "4                          0                 0               0   \n",
       "\n",
       "   Publisher_id Software  Publisher_imageepoch Inc.  \\\n",
       "0                      0                          0   \n",
       "1                      0                          0   \n",
       "2                      0                          0   \n",
       "3                      0                          0   \n",
       "4                      0                          0   \n",
       "\n",
       "   Publisher_inXile Entertainment  Publisher_mixi, Inc  Publisher_responDESIGN  \n",
       "0                               0                    0                       0  \n",
       "1                               0                    0                       0  \n",
       "2                               0                    0                       0  \n",
       "3                               0                    0                       0  \n",
       "4                               0                    0                       0  \n",
       "\n",
       "[5 rows x 622 columns]"
      ]
     },
     "execution_count": 23,
     "metadata": {},
     "output_type": "execute_result"
    }
   ],
   "source": [
    "data.head()"
   ]
  },
  {
   "cell_type": "code",
   "execution_count": 24,
   "metadata": {},
   "outputs": [],
   "source": [
    "X = data.drop(['Global_Sales'], axis=1)\n",
    "y = data['Global_Sales']\n",
    "# Split data into train and test split"
   ]
  },
  {
   "cell_type": "code",
   "execution_count": 25,
   "metadata": {},
   "outputs": [],
   "source": [
    "from sklearn.model_selection import train_test_split\n",
    "X_train, X_test, y_train, y_test = train_test_split(X, y, test_size=0.33,random_state=42) #0.67 data will be for training."
   ]
  },
  {
   "cell_type": "code",
   "execution_count": 26,
   "metadata": {},
   "outputs": [
    {
     "data": {
      "text/plain": [
       "(11120, 621)"
      ]
     },
     "execution_count": 26,
     "metadata": {},
     "output_type": "execute_result"
    }
   ],
   "source": [
    "X_train.shape"
   ]
  },
  {
   "cell_type": "code",
   "execution_count": 27,
   "metadata": {},
   "outputs": [
    {
     "data": {
      "text/plain": [
       "(5478, 621)"
      ]
     },
     "execution_count": 27,
     "metadata": {},
     "output_type": "execute_result"
    }
   ],
   "source": [
    "X_test.shape"
   ]
  },
  {
   "cell_type": "code",
   "execution_count": 28,
   "metadata": {},
   "outputs": [
    {
     "data": {
      "text/plain": [
       "(11120,)"
      ]
     },
     "execution_count": 28,
     "metadata": {},
     "output_type": "execute_result"
    }
   ],
   "source": [
    "y_train.shape"
   ]
  },
  {
   "cell_type": "code",
   "execution_count": 29,
   "metadata": {},
   "outputs": [
    {
     "data": {
      "text/plain": [
       "(5478,)"
      ]
     },
     "execution_count": 29,
     "metadata": {},
     "output_type": "execute_result"
    }
   ],
   "source": [
    "y_test.shape"
   ]
  },
  {
   "cell_type": "code",
   "execution_count": 30,
   "metadata": {},
   "outputs": [],
   "source": [
    "from sklearn.linear_model import LinearRegression\n",
    "lin_reg = LinearRegression()\n",
    "lin_reg.fit(X_train,y_train)\n",
    "y_predlr=lin_reg.predict(X_test)"
   ]
  },
  {
   "cell_type": "code",
   "execution_count": 31,
   "metadata": {},
   "outputs": [
    {
     "data": {
      "text/plain": [
       "array([-6.76418750e-05, -1.46756253e-03, -2.34451160e-10,  1.72120105e-02,\n",
       "       -2.40343902e-02,  1.64051718e-02,  6.25358138e-02,  1.80638101e-03,\n",
       "       -1.34680819e-02,  7.61256850e-02,  4.96847332e-02, -2.88541764e-02,\n",
       "        1.77882092e-01, -8.46356849e-02,  9.59776493e-02,  3.01889749e-01,\n",
       "        1.38374616e-02,  1.65982197e-02,  3.95569699e-02,  7.05493638e-02,\n",
       "        1.27325418e-02,  3.08296791e-02, -7.57581253e-02,  1.09332106e-02,\n",
       "       -3.39868826e-03,  1.00621192e-01, -3.14832552e-02,  9.41063470e-03,\n",
       "        2.69242953e-02,  2.67506450e-02, -8.23692077e-03,  6.31654231e-02,\n",
       "        1.08854744e-02,  1.59542785e-02, -8.50871159e-03,  2.50592660e-02,\n",
       "        9.19738017e-03,  1.71268358e-02, -7.80580130e-03,  2.61281083e-02,\n",
       "       -9.26547435e-03, -1.14349257e-02, -2.43815796e-02,  9.29583752e-02,\n",
       "        7.31105940e-02, -2.02662062e-01,  4.66030617e-03, -7.27086742e-02,\n",
       "        6.66306052e-02, -4.26272959e-02,  1.28956505e-01,  2.11829943e-01,\n",
       "       -1.71643537e-01,  8.89661827e-02,  3.52832210e-02,  8.90091474e-02,\n",
       "        1.62284589e-02,  1.67485423e-01,  1.87257478e-01, -5.66352572e-02,\n",
       "       -6.28547879e-02, -1.87351019e-01,  2.85751987e-02, -4.97933538e-02,\n",
       "       -4.18457822e-02, -2.07262068e-01, -8.45326238e-02, -3.63599428e-12,\n",
       "        1.22038762e-01, -4.68759979e-02,  9.37189923e-03,  1.56456108e-02,\n",
       "        7.15254939e-12,  1.21641059e-01,  9.46309223e-02, -1.89099125e-02,\n",
       "        4.25273705e-12, -1.26644806e-11, -2.37539615e-02, -1.28992424e-01,\n",
       "        5.87752659e-02, -1.56073411e-01,  6.15767927e-02,  1.52983548e-01,\n",
       "       -1.24741421e-02, -2.71567491e-12,  4.36362084e-02, -1.04398161e-01,\n",
       "        1.68265349e-01,  2.99943144e-02,  1.10188437e-01, -7.72806422e-02,\n",
       "       -3.41628653e-02, -1.39933565e-02, -1.72432107e-01, -5.01311883e-02,\n",
       "       -2.69554229e-02, -2.01501642e-02, -3.91045576e-02, -1.57744040e-02,\n",
       "       -1.80280183e-02,  1.26135620e-01, -1.97927984e-01, -8.03834472e-02,\n",
       "       -8.97280288e-02,  8.43547454e-13, -5.98169293e-02,  7.67984685e-02,\n",
       "       -1.73886600e-12,  2.51060914e-02,  9.01520817e-02,  6.08936851e-02,\n",
       "        5.85699422e-02, -1.08817828e-02,  2.94392794e-01, -6.44680492e-02,\n",
       "        1.04277873e-01, -2.03752418e-01, -2.26638153e-13, -3.80820375e-13,\n",
       "       -6.52009876e-02,  9.19582727e-02,  1.22402127e-01, -2.00145649e-01,\n",
       "       -3.89618893e-13,  1.36655919e-01, -1.09284986e-01,  1.52256936e-01,\n",
       "       -1.50426707e-02,  1.14015514e-01, -3.69336237e-02, -5.46506196e-02,\n",
       "        4.82327307e-02,  1.34827310e-01, -3.73164878e-02,  8.93949995e-02,\n",
       "       -1.97232779e-01, -5.40972913e-02,  1.43870801e-01,  2.37458543e-01,\n",
       "        4.55147038e-02,  1.15430025e-02,  5.47717870e-02, -1.36765585e-01,\n",
       "       -2.89082876e-02,  8.15111182e-02,  2.33972564e-12, -8.53461911e-02,\n",
       "        3.97522056e-02, -3.69944353e-12,  1.82063564e-01,  8.01938083e-02,\n",
       "        4.64860486e-03,  3.39707326e-02,  1.23919560e-01,  3.35513552e-03,\n",
       "       -5.92828239e-02, -1.92048590e-02,  3.66103067e-02, -1.86294733e-01,\n",
       "       -7.40039229e-02,  8.24130105e-02,  2.00710832e-01, -4.20683602e-02,\n",
       "        8.90135639e-02, -1.41290118e-02, -1.71680581e-01,  8.51386006e-02,\n",
       "        2.72558104e-02, -4.73578704e-02, -3.42316106e-12,  5.68770153e-02,\n",
       "       -1.50820132e-01,  9.45632461e-13,  2.64722966e-12,  2.27945130e-01,\n",
       "        8.96248764e-02,  1.28534616e-01, -3.47171250e-12,  7.86609989e-02,\n",
       "       -3.04806083e-02,  6.08113872e-03, -6.93926804e-02, -9.33689206e-02,\n",
       "       -1.43167000e-02, -3.87149118e-02,  1.70289714e-01,  2.57294340e-02,\n",
       "        3.09078457e-12, -4.58498422e-02, -2.40335529e-12, -4.62854795e-02,\n",
       "        4.31803495e-02, -2.93407093e-03,  3.22050719e-12,  1.11423155e-01,\n",
       "       -8.53745338e-02, -2.01729952e-12,  1.31614401e-01,  2.68654783e-02,\n",
       "        4.59294061e-13,  4.87410606e-02,  2.93927382e-12, -3.07898004e-02,\n",
       "        1.05933094e-01, -1.45183298e-02,  1.04764799e-02, -3.90836524e-02,\n",
       "       -3.87223457e-02,  5.78539466e-02,  9.00873902e-02,  7.06447318e-02,\n",
       "       -1.40671047e-01,  4.20794059e-02,  5.80923383e-02,  1.41454197e-01,\n",
       "        1.36711284e-01,  1.71014070e-01,  6.49086407e-02, -4.88371459e-02,\n",
       "       -3.84014567e-02,  2.01333805e-01,  4.38721975e-12,  1.87142550e-01,\n",
       "        4.60276262e-12, -2.20388968e-02, -1.23862862e-01, -1.02107970e-01,\n",
       "       -3.61745809e-02, -1.64186856e-01,  3.76220299e-02, -8.94087707e-02,\n",
       "       -1.01609482e-01, -1.24794373e-01,  2.21076119e-02, -4.03056755e-12,\n",
       "       -5.21552148e-02,  1.83483505e-01,  2.05540121e-01,  7.30205916e-02,\n",
       "        1.09539960e-01, -1.39674593e-02, -9.89949702e-02,  5.38676680e-03,\n",
       "        8.22913787e-03,  7.06237862e-02, -4.92683073e-02, -5.35092690e-02,\n",
       "        1.35016496e-01,  2.47273110e-03, -2.32059774e-02, -1.72998934e-01,\n",
       "        9.87030630e-02,  1.09507355e-01, -1.14506128e-02,  9.70513720e-02,\n",
       "       -1.87213892e-01,  3.99722953e-02, -2.08794530e-01,  2.19554246e-02,\n",
       "       -5.50591037e-02, -1.72972525e-01,  2.26490170e-01,  1.57734895e-02,\n",
       "       -5.49213697e-03, -2.99782309e-02,  9.52362658e-02, -2.25304602e-02,\n",
       "       -1.62967936e-01, -8.62350122e-13,  4.60466914e-03, -1.75234133e-12,\n",
       "        3.06988115e-12,  1.27581758e-01, -6.53334193e-02, -3.18208262e-02,\n",
       "       -2.10510864e-03, -6.81454573e-02, -4.73662014e-02,  3.48979873e-12,\n",
       "        9.65605098e-02, -3.28821861e-02,  3.24998888e-03,  6.48681344e-03,\n",
       "       -4.20540806e-02, -3.87562909e-02,  1.41297006e-01,  2.55255820e-01,\n",
       "        9.94257525e-02, -7.31977674e-02, -1.06921218e-01,  1.97669865e-01,\n",
       "        2.40898122e-01, -4.25978697e-13,  1.35519776e-01,  1.48780641e-12,\n",
       "        1.23111697e-01,  2.61225479e-02,  8.76950995e-02, -4.32922479e-02,\n",
       "        5.15853313e-02, -1.81043100e-01,  1.89118166e-12,  1.76750902e-01,\n",
       "       -1.36647638e-12,  1.29886204e-01,  5.33213187e-02,  1.39837397e-01,\n",
       "        4.30949733e-02,  1.15166563e-01,  2.47293852e-12,  2.68118860e-13,\n",
       "       -8.48907179e-03,  1.31616605e-01,  1.59067978e-01, -1.36052424e-01,\n",
       "        3.61939259e-03,  8.56655645e-02, -3.38863130e-02,  1.03324342e-01,\n",
       "       -4.67233825e-02,  9.01182347e-02, -1.52241870e-01,  3.27327054e-12,\n",
       "        2.47418076e-02,  1.41100737e-01,  1.52825726e-01,  1.33760180e-01,\n",
       "        1.10363223e-02,  8.17976172e-03,  2.34123484e-12,  1.53517577e-02,\n",
       "        8.88244539e-02, -1.60826213e-12,  1.18642872e-01, -6.41930719e-02,\n",
       "       -8.00586121e-02,  3.45669326e-12, -4.60031754e-02, -1.26937636e-02,\n",
       "        1.43132692e-01,  3.25837056e-02,  5.69100893e-02,  1.71159050e-12,\n",
       "        4.12761703e-02,  1.39968639e-01,  2.78961661e-02,  1.76791277e-02,\n",
       "       -1.33903926e-01,  1.26176847e-12,  9.91133497e-02,  1.56526264e-01,\n",
       "        2.01606296e-01, -1.55952350e-01, -1.65790848e-01,  8.83335978e-02,\n",
       "       -7.24822979e-13, -4.00361688e-12, -1.98255115e-02,  5.15960322e-02,\n",
       "       -4.01199733e-12, -6.11779816e-02,  2.05556082e-01,  1.73799505e-02,\n",
       "        4.18619717e-02,  7.98906670e-02,  1.51173360e-02,  2.26960822e-02,\n",
       "       -5.83003399e-02, -5.60932903e-02, -1.24226777e-04, -6.04383243e-03,\n",
       "        1.38255839e-01, -5.81116880e-02,  1.93886179e-01,  1.97558499e-01,\n",
       "       -3.35863745e-02,  6.75558292e-03, -9.47066182e-03,  2.37089515e-12,\n",
       "       -8.88075044e-02,  1.78099745e-02, -1.00499123e-12,  1.39079188e-01,\n",
       "        8.95447638e-02, -1.30970968e-02,  9.86679026e-02, -1.03753329e-01,\n",
       "       -1.74926898e-01,  6.74522727e-02, -2.43055129e-02, -2.51529722e-02,\n",
       "        6.74064103e-13,  2.24007688e-01,  1.29361767e-01,  1.56207538e-01,\n",
       "       -2.77912415e-12,  1.25037235e-01, -5.90764692e-02,  2.28919038e-12,\n",
       "        2.04024297e-13, -2.78850290e-02,  7.11677140e-02, -5.93521760e-13,\n",
       "       -1.00911540e-01, -4.20517180e-02,  1.29734358e-13,  2.19209413e-01,\n",
       "        6.70904031e-02, -8.84811104e-03,  3.72723071e-02, -4.06925407e-02,\n",
       "        1.51691903e-02,  2.33928096e-02,  7.90548291e-03, -1.37309215e-01,\n",
       "        1.12879992e-01, -1.87896543e-01, -7.25849936e-13, -4.79096237e-02,\n",
       "        2.21769478e-01,  4.45244845e-02,  6.46771164e-04, -6.81117312e-02,\n",
       "       -4.18218843e-02, -1.99108541e-01, -1.06890885e-12,  1.58792679e-02,\n",
       "        2.50772300e-02, -1.68060008e-01,  1.40645669e-01,  1.35582098e-01,\n",
       "       -5.65647724e-12,  7.24610121e-02, -6.28471593e-02, -1.73203899e-01,\n",
       "        6.39343650e-02, -1.06677017e-01,  4.36447612e-02,  1.36542247e-01,\n",
       "        2.13443561e-01,  1.45349258e-02, -9.53612552e-02, -4.96565572e-02,\n",
       "        1.45569321e-01, -3.12354159e-02,  5.10119724e-13,  2.71374584e-13,\n",
       "        1.65956050e-01,  6.21133186e-02,  3.61282049e-02, -1.53818971e-12,\n",
       "        5.77379344e-02,  4.38210734e-02,  1.06767627e-01,  1.54791843e-01,\n",
       "       -4.07649888e-02,  1.48551766e-12,  1.95132953e-02,  1.68172505e-01,\n",
       "       -1.77303311e-12, -8.18733970e-13,  8.69849629e-02,  2.48747702e-02,\n",
       "       -3.75116604e-13, -1.47672543e-01, -1.46202388e-01,  1.20926732e-01,\n",
       "        8.16229165e-02,  1.40616539e-01,  4.89613462e-02,  1.85709863e-01,\n",
       "        5.40391277e-02, -2.16713287e-02,  7.68668115e-13,  4.01323251e-02,\n",
       "        1.41799790e-02,  2.08866253e-01, -2.04198005e-01, -7.13662449e-03,\n",
       "       -3.87072055e-02,  4.17147577e-02, -1.09200685e-01, -1.65528651e-01,\n",
       "       -8.71816722e-02,  1.81792428e-01, -1.34747939e-01, -9.71360415e-02,\n",
       "       -1.77104174e-01, -2.05298340e-02, -9.84970871e-02, -2.68829867e-12,\n",
       "        4.91787469e-02, -6.34963591e-02,  1.85546092e-02, -2.86245501e-02,\n",
       "        3.47814832e-12,  1.61575291e-01,  2.03129777e-01, -8.65614085e-03,\n",
       "       -1.20226618e-01,  5.32206950e-02, -1.32599333e-01, -3.67931263e-02,\n",
       "       -4.63018807e-02, -4.25509749e-02, -7.58333074e-02,  1.27376321e-12,\n",
       "       -1.52628504e-02,  1.64044709e-02,  4.05308935e-12,  7.29627712e-02,\n",
       "       -7.68326375e-14, -8.10615611e-03,  2.17977291e-02,  6.38275195e-02,\n",
       "        1.14560194e-01,  7.90286322e-02,  4.97639752e-02,  7.71712995e-02,\n",
       "       -1.16351540e-02,  1.07843067e-01, -4.74775764e-02, -1.35294131e-01,\n",
       "       -1.59505048e-12,  1.41522462e-02,  2.55464523e-01, -9.34586219e-02,\n",
       "       -7.26530057e-02, -3.31299402e-02,  1.11480994e-01, -5.59656137e-02,\n",
       "       -7.98957126e-02, -1.91570570e-01,  1.03506167e-01, -4.55072793e-02,\n",
       "        8.17642096e-03, -2.69259817e-03,  2.29251201e-01, -4.52026611e-12,\n",
       "       -1.78919707e-03,  5.12504535e-13, -1.78039528e-12, -1.99878051e-02,\n",
       "       -1.26575003e-02, -8.56782018e-02, -8.35434773e-02, -1.65919091e-01,\n",
       "       -8.33251279e-02,  1.31413243e-02, -8.23288706e-02,  4.73977935e-03,\n",
       "        2.68068247e-02,  5.59990449e-02,  1.08792637e-01, -7.77737772e-02,\n",
       "        8.76590632e-02, -4.44805120e-02,  1.35588282e-01, -2.04251585e-01,\n",
       "        4.06393495e-12,  8.10179605e-02,  1.11520624e-01, -8.72396163e-02,\n",
       "       -4.93958164e-02,  3.04104642e-12,  7.55119325e-02, -1.62705960e-12,\n",
       "       -3.22661451e-02, -1.14428403e-01, -1.41600267e-01, -5.31735656e-02,\n",
       "       -7.60127573e-02,  1.07883092e-02,  6.45275442e-02, -6.68030056e-02,\n",
       "        2.14546780e-01, -3.38189895e-02,  5.23484289e-02, -7.13707341e-02,\n",
       "       -1.41279147e-01, -1.89981600e-02, -1.63463588e-01,  1.65834341e-01,\n",
       "       -1.44547591e-02, -2.89531603e-02,  1.49497224e-01, -7.74166504e-13,\n",
       "       -6.87703949e-02,  1.43115368e-02,  2.14049557e-01, -2.77555756e-17,\n",
       "       -5.36292538e-02,  3.79263432e-02, -6.93889390e-18,  2.03809352e-01,\n",
       "       -1.55872000e-01, -5.97238300e-02,  8.71190998e-02,  1.36432584e-01,\n",
       "       -2.22850525e-01, -4.27551423e-02, -6.79467015e-02, -1.14454451e-01,\n",
       "        1.62223225e-01,  1.43677547e-01,  1.17555438e-01,  7.96458531e-02,\n",
       "        1.59158782e-01, -2.56146886e-02,  1.64500655e-02,  3.55341166e-03,\n",
       "       -5.56119767e-02,  1.56408862e-01,  0.00000000e+00, -1.08877218e-02,\n",
       "       -5.17657680e-03,  1.16077329e-01, -1.28237878e-01,  1.38115230e-01,\n",
       "        7.81504610e-02])"
      ]
     },
     "execution_count": 31,
     "metadata": {},
     "output_type": "execute_result"
    }
   ],
   "source": [
    "M = lin_reg.coef_\n",
    "M"
   ]
  },
  {
   "cell_type": "code",
   "execution_count": 32,
   "metadata": {},
   "outputs": [
    {
     "data": {
      "text/plain": [
       "3.8248958189844577"
      ]
     },
     "execution_count": 32,
     "metadata": {},
     "output_type": "execute_result"
    }
   ],
   "source": [
    "C = lin_reg.intercept_\n",
    "C"
   ]
  },
  {
   "cell_type": "code",
   "execution_count": 33,
   "metadata": {},
   "outputs": [
    {
     "data": {
      "text/plain": [
       "0.023523654442096406"
      ]
     },
     "execution_count": 33,
     "metadata": {},
     "output_type": "execute_result"
    }
   ],
   "source": [
    "from sklearn.metrics import mean_squared_error \n",
    "#calculating Mean Squared Error\n",
    "LR_Error=mean_squared_error(y_predlr,y_test)\n",
    "LR_Error"
   ]
  },
  {
   "cell_type": "code",
   "execution_count": 34,
   "metadata": {},
   "outputs": [
    {
     "data": {
      "text/plain": [
       "0.021749678058624523"
      ]
     },
     "execution_count": 34,
     "metadata": {},
     "output_type": "execute_result"
    }
   ],
   "source": [
    "#Training Error\n",
    "y_pred_train=lin_reg.predict(X_train)\n",
    "LR_Training_Error=mean_squared_error(y_pred_train,y_train)\n",
    "LR_Training_Error"
   ]
  },
  {
   "cell_type": "code",
   "execution_count": 35,
   "metadata": {
    "scrolled": true
   },
   "outputs": [
    {
     "data": {
      "text/plain": [
       "0.8109065946402672"
      ]
     },
     "execution_count": 35,
     "metadata": {},
     "output_type": "execute_result"
    }
   ],
   "source": [
    "from sklearn.metrics import r2_score\n",
    "r2_score(y_test,y_predlr)"
   ]
  },
  {
   "cell_type": "code",
   "execution_count": 68,
   "metadata": {},
   "outputs": [],
   "source": [
    "##ridge regression"
   ]
  },
  {
   "cell_type": "code",
   "execution_count": 37,
   "metadata": {},
   "outputs": [
    {
     "data": {
      "text/plain": [
       "Ridge()"
      ]
     },
     "execution_count": 37,
     "metadata": {},
     "output_type": "execute_result"
    }
   ],
   "source": [
    "from sklearn.linear_model import Ridge\n",
    "ridge = Ridge()\n",
    "ridge.fit(X_train,y_train)"
   ]
  },
  {
   "cell_type": "code",
   "execution_count": 38,
   "metadata": {},
   "outputs": [],
   "source": [
    "ypred = ridge.predict(X_test)"
   ]
  },
  {
   "cell_type": "code",
   "execution_count": 39,
   "metadata": {},
   "outputs": [
    {
     "data": {
      "text/plain": [
       "0.02337389794325883"
      ]
     },
     "execution_count": 39,
     "metadata": {},
     "output_type": "execute_result"
    }
   ],
   "source": [
    "Ridge_Error =mean_squared_error(ypred,y_test)\n",
    "Ridge_Error"
   ]
  },
  {
   "cell_type": "code",
   "execution_count": 40,
   "metadata": {},
   "outputs": [
    {
     "data": {
      "text/plain": [
       "GridSearchCV(estimator=Ridge(),\n",
       "             param_grid={'alpha': [1, 2, 3, 4, 5, 6, 7, 8],\n",
       "                         'solver': ['auto', 'svd']})"
      ]
     },
     "execution_count": 40,
     "metadata": {},
     "output_type": "execute_result"
    }
   ],
   "source": [
    "from sklearn.model_selection import GridSearchCV \n",
    "from sklearn.linear_model import Ridge\n",
    "\n",
    "#alphavalues = [1e-15, 1e-10, 1e-8, 1e-4,1e-2, 1, 5, 10, 20,30,50,100]\n",
    "\n",
    "alphavalues = [1, 2, 3, 4, 5, 6, 7, 8]\n",
    "solvervalues =['auto','svd']\n",
    "\n",
    "ridge = Ridge()\n",
    "\n",
    "parameters = {'alpha': alphavalues, 'solver':solvervalues} \n",
    "ridge_regressor = GridSearchCV(ridge, parameters)  \n",
    "\n",
    "ridge_regressor.fit(X_train, y_train)"
   ]
  },
  {
   "cell_type": "markdown",
   "metadata": {},
   "source": [
    "# ridge_regressor.best_estimator_"
   ]
  },
  {
   "cell_type": "code",
   "execution_count": 41,
   "metadata": {},
   "outputs": [
    {
     "data": {
      "text/plain": [
       "0.8245324070680896"
      ]
     },
     "execution_count": 41,
     "metadata": {},
     "output_type": "execute_result"
    }
   ],
   "source": [
    "ridge_regressor.score(X_train, y_train)"
   ]
  },
  {
   "cell_type": "code",
   "execution_count": 42,
   "metadata": {},
   "outputs": [
    {
     "data": {
      "text/plain": [
       "{'alpha': 5, 'solver': 'auto'}"
      ]
     },
     "execution_count": 42,
     "metadata": {},
     "output_type": "execute_result"
    }
   ],
   "source": [
    "#best parameter of model\n",
    "ridge_regressor.best_params_"
   ]
  },
  {
   "cell_type": "code",
   "execution_count": 43,
   "metadata": {},
   "outputs": [],
   "source": [
    "ridge=Ridge(alpha=5,solver='auto')\n",
    "ridge.fit(X_train,y_train)\n",
    "y_pred_ridge=ridge.predict(X_test)"
   ]
  },
  {
   "cell_type": "code",
   "execution_count": 44,
   "metadata": {},
   "outputs": [
    {
     "data": {
      "text/plain": [
       "0.023319192165292057"
      ]
     },
     "execution_count": 44,
     "metadata": {},
     "output_type": "execute_result"
    }
   ],
   "source": [
    "Ridge_Error=mean_squared_error(y_pred_ridge,y_test)\n",
    "Ridge_Error"
   ]
  },
  {
   "cell_type": "code",
   "execution_count": 45,
   "metadata": {},
   "outputs": [
    {
     "data": {
      "text/plain": [
       "0.8125501516940279"
      ]
     },
     "execution_count": 45,
     "metadata": {},
     "output_type": "execute_result"
    }
   ],
   "source": [
    "r2_score(y_test,y_pred_ridge)"
   ]
  },
  {
   "cell_type": "code",
   "execution_count": 46,
   "metadata": {},
   "outputs": [],
   "source": [
    "### Lasso"
   ]
  },
  {
   "cell_type": "code",
   "execution_count": 47,
   "metadata": {},
   "outputs": [
    {
     "name": "stderr",
     "output_type": "stream",
     "text": [
      "/home/user/anaconda3/lib/python3.8/site-packages/sklearn/linear_model/_coordinate_descent.py:529: ConvergenceWarning: Objective did not converge. You might want to increase the number of iterations. Duality gap: 96.37809848018009, tolerance: 0.11292927953658932\n",
      "  model = cd_fast.enet_coordinate_descent(\n",
      "/home/user/anaconda3/lib/python3.8/site-packages/sklearn/linear_model/_coordinate_descent.py:529: ConvergenceWarning: Objective did not converge. You might want to increase the number of iterations. Duality gap: 95.44720903749169, tolerance: 0.11186461526978417\n",
      "  model = cd_fast.enet_coordinate_descent(\n",
      "/home/user/anaconda3/lib/python3.8/site-packages/sklearn/linear_model/_coordinate_descent.py:529: ConvergenceWarning: Objective did not converge. You might want to increase the number of iterations. Duality gap: 96.96255994035864, tolerance: 0.11207242656474824\n",
      "  model = cd_fast.enet_coordinate_descent(\n",
      "/home/user/anaconda3/lib/python3.8/site-packages/sklearn/linear_model/_coordinate_descent.py:529: ConvergenceWarning: Objective did not converge. You might want to increase the number of iterations. Duality gap: 96.23531965139419, tolerance: 0.11258974860583422\n",
      "  model = cd_fast.enet_coordinate_descent(\n",
      "/home/user/anaconda3/lib/python3.8/site-packages/sklearn/linear_model/_coordinate_descent.py:529: ConvergenceWarning: Objective did not converge. You might want to increase the number of iterations. Duality gap: 95.72710876476167, tolerance: 0.1124240352506748\n",
      "  model = cd_fast.enet_coordinate_descent(\n",
      "/home/user/anaconda3/lib/python3.8/site-packages/sklearn/linear_model/_coordinate_descent.py:529: ConvergenceWarning: Objective did not converge. You might want to increase the number of iterations. Duality gap: 96.35160321624286, tolerance: 0.11292927953658932\n",
      "  model = cd_fast.enet_coordinate_descent(\n",
      "/home/user/anaconda3/lib/python3.8/site-packages/sklearn/linear_model/_coordinate_descent.py:529: ConvergenceWarning: Objective did not converge. You might want to increase the number of iterations. Duality gap: 91.53115111265123, tolerance: 0.11186461526978417\n",
      "  model = cd_fast.enet_coordinate_descent(\n",
      "/home/user/anaconda3/lib/python3.8/site-packages/sklearn/linear_model/_coordinate_descent.py:529: ConvergenceWarning: Objective did not converge. You might want to increase the number of iterations. Duality gap: 96.94407091708936, tolerance: 0.11207242656474824\n",
      "  model = cd_fast.enet_coordinate_descent(\n",
      "/home/user/anaconda3/lib/python3.8/site-packages/sklearn/linear_model/_coordinate_descent.py:529: ConvergenceWarning: Objective did not converge. You might want to increase the number of iterations. Duality gap: 96.22920472185933, tolerance: 0.11258974860583422\n",
      "  model = cd_fast.enet_coordinate_descent(\n",
      "/home/user/anaconda3/lib/python3.8/site-packages/sklearn/linear_model/_coordinate_descent.py:529: ConvergenceWarning: Objective did not converge. You might want to increase the number of iterations. Duality gap: 95.69827215342993, tolerance: 0.1124240352506748\n",
      "  model = cd_fast.enet_coordinate_descent(\n",
      "/home/user/anaconda3/lib/python3.8/site-packages/sklearn/linear_model/_coordinate_descent.py:529: ConvergenceWarning: Objective did not converge. You might want to increase the number of iterations. Duality gap: 93.74496664400971, tolerance: 0.11292927953658932\n",
      "  model = cd_fast.enet_coordinate_descent(\n",
      "/home/user/anaconda3/lib/python3.8/site-packages/sklearn/linear_model/_coordinate_descent.py:529: ConvergenceWarning: Objective did not converge. You might want to increase the number of iterations. Duality gap: 26.95674924921802, tolerance: 0.11186461526978417\n",
      "  model = cd_fast.enet_coordinate_descent(\n",
      "/home/user/anaconda3/lib/python3.8/site-packages/sklearn/linear_model/_coordinate_descent.py:529: ConvergenceWarning: Objective did not converge. You might want to increase the number of iterations. Duality gap: 95.12791634300773, tolerance: 0.11207242656474824\n",
      "  model = cd_fast.enet_coordinate_descent(\n",
      "/home/user/anaconda3/lib/python3.8/site-packages/sklearn/linear_model/_coordinate_descent.py:529: ConvergenceWarning: Objective did not converge. You might want to increase the number of iterations. Duality gap: 95.60345831788081, tolerance: 0.11258974860583422\n",
      "  model = cd_fast.enet_coordinate_descent(\n",
      "/home/user/anaconda3/lib/python3.8/site-packages/sklearn/linear_model/_coordinate_descent.py:529: ConvergenceWarning: Objective did not converge. You might want to increase the number of iterations. Duality gap: 92.8962770438265, tolerance: 0.1124240352506748\n",
      "  model = cd_fast.enet_coordinate_descent(\n"
     ]
    },
    {
     "data": {
      "text/plain": [
       "GridSearchCV(estimator=Lasso(),\n",
       "             param_grid={'alpha': [1e-15, 1e-10, 1e-08, 0.0001, 0.001, 0.01, 1,\n",
       "                                   5, 10, 20]})"
      ]
     },
     "execution_count": 47,
     "metadata": {},
     "output_type": "execute_result"
    }
   ],
   "source": [
    "from sklearn.linear_model import Lasso\n",
    "\n",
    "lasso = Lasso()\n",
    "\n",
    "parameters = {'alpha': [1e-15, 1e-10, 1e-8, 1e-4, 1e-3,1e-2, 1, 5, 10, 20]}\n",
    "\n",
    "lasso_regressor = GridSearchCV(lasso, parameters)\n",
    "\n",
    "lasso_regressor.fit(X_train, y_train)"
   ]
  },
  {
   "cell_type": "code",
   "execution_count": 48,
   "metadata": {},
   "outputs": [],
   "source": [
    "BP=lasso_regressor.best_params_"
   ]
  },
  {
   "cell_type": "code",
   "execution_count": 49,
   "metadata": {},
   "outputs": [
    {
     "data": {
      "text/plain": [
       "{'alpha': 0.0001}"
      ]
     },
     "execution_count": 49,
     "metadata": {},
     "output_type": "execute_result"
    }
   ],
   "source": [
    "BP"
   ]
  },
  {
   "cell_type": "code",
   "execution_count": 50,
   "metadata": {},
   "outputs": [],
   "source": [
    "lasso=Lasso(alpha=BP['alpha'])\n",
    "lasso.fit(X_train,y_train)\n",
    "y_pred_lasso=lasso.predict(X_test)"
   ]
  },
  {
   "cell_type": "code",
   "execution_count": 51,
   "metadata": {},
   "outputs": [
    {
     "data": {
      "text/plain": [
       "0.023510283959130688"
      ]
     },
     "execution_count": 51,
     "metadata": {},
     "output_type": "execute_result"
    }
   ],
   "source": [
    "Lasso_Error=mean_squared_error(y_pred_lasso,y_test)\n",
    "Lasso_Error"
   ]
  },
  {
   "cell_type": "code",
   "execution_count": 52,
   "metadata": {},
   "outputs": [
    {
     "data": {
      "text/plain": [
       "0.8110140724201979"
      ]
     },
     "execution_count": 52,
     "metadata": {},
     "output_type": "execute_result"
    }
   ],
   "source": [
    "r2_score(y_test,y_pred_lasso)"
   ]
  },
  {
   "cell_type": "code",
   "execution_count": 53,
   "metadata": {},
   "outputs": [],
   "source": [
    "####elastic net"
   ]
  },
  {
   "cell_type": "code",
   "execution_count": 54,
   "metadata": {},
   "outputs": [
    {
     "name": "stderr",
     "output_type": "stream",
     "text": [
      "/home/user/anaconda3/lib/python3.8/site-packages/sklearn/linear_model/_coordinate_descent.py:529: ConvergenceWarning: Objective did not converge. You might want to increase the number of iterations. Duality gap: 96.37809861267728, tolerance: 0.11292927953658932\n",
      "  model = cd_fast.enet_coordinate_descent(\n",
      "/home/user/anaconda3/lib/python3.8/site-packages/sklearn/linear_model/_coordinate_descent.py:529: ConvergenceWarning: Objective did not converge. You might want to increase the number of iterations. Duality gap: 95.44722919182563, tolerance: 0.11186461526978417\n",
      "  model = cd_fast.enet_coordinate_descent(\n",
      "/home/user/anaconda3/lib/python3.8/site-packages/sklearn/linear_model/_coordinate_descent.py:529: ConvergenceWarning: Objective did not converge. You might want to increase the number of iterations. Duality gap: 96.96256003282161, tolerance: 0.11207242656474824\n",
      "  model = cd_fast.enet_coordinate_descent(\n",
      "/home/user/anaconda3/lib/python3.8/site-packages/sklearn/linear_model/_coordinate_descent.py:529: ConvergenceWarning: Objective did not converge. You might want to increase the number of iterations. Duality gap: 96.23531968197176, tolerance: 0.11258974860583422\n",
      "  model = cd_fast.enet_coordinate_descent(\n",
      "/home/user/anaconda3/lib/python3.8/site-packages/sklearn/linear_model/_coordinate_descent.py:529: ConvergenceWarning: Objective did not converge. You might want to increase the number of iterations. Duality gap: 95.72710890898536, tolerance: 0.1124240352506748\n",
      "  model = cd_fast.enet_coordinate_descent(\n",
      "/home/user/anaconda3/lib/python3.8/site-packages/sklearn/linear_model/_coordinate_descent.py:529: ConvergenceWarning: Objective did not converge. You might want to increase the number of iterations. Duality gap: 96.3648515851856, tolerance: 0.11292927953658932\n",
      "  model = cd_fast.enet_coordinate_descent(\n",
      "/home/user/anaconda3/lib/python3.8/site-packages/sklearn/linear_model/_coordinate_descent.py:529: ConvergenceWarning: Objective did not converge. You might want to increase the number of iterations. Duality gap: 93.46072570116307, tolerance: 0.11186461526978417\n",
      "  model = cd_fast.enet_coordinate_descent(\n",
      "/home/user/anaconda3/lib/python3.8/site-packages/sklearn/linear_model/_coordinate_descent.py:529: ConvergenceWarning: Objective did not converge. You might want to increase the number of iterations. Duality gap: 96.95331630879403, tolerance: 0.11207242656474824\n",
      "  model = cd_fast.enet_coordinate_descent(\n",
      "/home/user/anaconda3/lib/python3.8/site-packages/sklearn/linear_model/_coordinate_descent.py:529: ConvergenceWarning: Objective did not converge. You might want to increase the number of iterations. Duality gap: 96.23226381186443, tolerance: 0.11258974860583422\n",
      "  model = cd_fast.enet_coordinate_descent(\n",
      "/home/user/anaconda3/lib/python3.8/site-packages/sklearn/linear_model/_coordinate_descent.py:529: ConvergenceWarning: Objective did not converge. You might want to increase the number of iterations. Duality gap: 95.71269040809435, tolerance: 0.1124240352506748\n",
      "  model = cd_fast.enet_coordinate_descent(\n",
      "/home/user/anaconda3/lib/python3.8/site-packages/sklearn/linear_model/_coordinate_descent.py:529: ConvergenceWarning: Objective did not converge. You might want to increase the number of iterations. Duality gap: 95.05588128558973, tolerance: 0.11292927953658932\n",
      "  model = cd_fast.enet_coordinate_descent(\n",
      "/home/user/anaconda3/lib/python3.8/site-packages/sklearn/linear_model/_coordinate_descent.py:529: ConvergenceWarning: Objective did not converge. You might want to increase the number of iterations. Duality gap: 63.97936335720981, tolerance: 0.11186461526978417\n",
      "  model = cd_fast.enet_coordinate_descent(\n",
      "/home/user/anaconda3/lib/python3.8/site-packages/sklearn/linear_model/_coordinate_descent.py:529: ConvergenceWarning: Objective did not converge. You might want to increase the number of iterations. Duality gap: 96.0671056363228, tolerance: 0.11207242656474824\n",
      "  model = cd_fast.enet_coordinate_descent(\n",
      "/home/user/anaconda3/lib/python3.8/site-packages/sklearn/linear_model/_coordinate_descent.py:529: ConvergenceWarning: Objective did not converge. You might want to increase the number of iterations. Duality gap: 95.92403261583192, tolerance: 0.11258974860583422\n",
      "  model = cd_fast.enet_coordinate_descent(\n",
      "/home/user/anaconda3/lib/python3.8/site-packages/sklearn/linear_model/_coordinate_descent.py:529: ConvergenceWarning: Objective did not converge. You might want to increase the number of iterations. Duality gap: 94.2975176151365, tolerance: 0.1124240352506748\n",
      "  model = cd_fast.enet_coordinate_descent(\n"
     ]
    },
    {
     "data": {
      "text/plain": [
       "GridSearchCV(estimator=ElasticNet(),\n",
       "             param_grid={'alpha': [1e-15, 1e-10, 1e-08, 0.0001, 0.001, 0.01, 1,\n",
       "                                   5, 10, 20]})"
      ]
     },
     "execution_count": 54,
     "metadata": {},
     "output_type": "execute_result"
    }
   ],
   "source": [
    "from sklearn.linear_model import ElasticNet\n",
    "\n",
    "elastic = ElasticNet()\n",
    "\n",
    "parameters = {'alpha': [1e-15, 1e-10, 1e-8, 1e-4, 1e-3,1e-2, 1, 5, 10, 20]}\n",
    "\n",
    "elastic_regressor = GridSearchCV(elastic, parameters)\n",
    "\n",
    "elastic_regressor.fit(X_train, y_train)"
   ]
  },
  {
   "cell_type": "code",
   "execution_count": 55,
   "metadata": {},
   "outputs": [
    {
     "data": {
      "text/plain": [
       "{'alpha': 0.0001}"
      ]
     },
     "execution_count": 55,
     "metadata": {},
     "output_type": "execute_result"
    }
   ],
   "source": [
    "elastic_regressor.best_params_"
   ]
  },
  {
   "cell_type": "code",
   "execution_count": 56,
   "metadata": {},
   "outputs": [],
   "source": [
    "elastic_regressor=ElasticNet(alpha=0.0001)\n",
    "elastic_regressor.fit(X_train,y_train)\n",
    "ypred_elastic=elastic_regressor.predict(X_test)"
   ]
  },
  {
   "cell_type": "code",
   "execution_count": 57,
   "metadata": {},
   "outputs": [
    {
     "data": {
      "text/plain": [
       "0.023390399767137755"
      ]
     },
     "execution_count": 57,
     "metadata": {},
     "output_type": "execute_result"
    }
   ],
   "source": [
    "elastic_Error=mean_squared_error(y_test,ypred_elastic)\n",
    "elastic_Error"
   ]
  },
  {
   "cell_type": "code",
   "execution_count": 58,
   "metadata": {},
   "outputs": [
    {
     "data": {
      "text/plain": [
       "0.8119777538995591"
      ]
     },
     "execution_count": 58,
     "metadata": {},
     "output_type": "execute_result"
    }
   ],
   "source": [
    "r2_score(y_test,ypred_elastic)"
   ]
  },
  {
   "cell_type": "code",
   "execution_count": 59,
   "metadata": {},
   "outputs": [
    {
     "data": {
      "text/plain": [
       "0.15270622831205038"
      ]
     },
     "execution_count": 59,
     "metadata": {},
     "output_type": "execute_result"
    }
   ],
   "source": [
    "#RMSE\n",
    "import math\n",
    "RMSE_ridge = math.sqrt(Ridge_Error)\n",
    "RMSE_ridge"
   ]
  },
  {
   "cell_type": "code",
   "execution_count": 60,
   "metadata": {},
   "outputs": [],
   "source": [
    "ErrorDict={'ElasticNet':elastic_Error,'LassoReg':Lasso_Error,'RidgeReg':Ridge_Error}"
   ]
  },
  {
   "cell_type": "code",
   "execution_count": 61,
   "metadata": {},
   "outputs": [
    {
     "data": {
      "text/plain": [
       "{'ElasticNet': 0.023390399767137755,\n",
       " 'LassoReg': 0.023510283959130688,\n",
       " 'RidgeReg': 0.023319192165292057}"
      ]
     },
     "execution_count": 61,
     "metadata": {},
     "output_type": "execute_result"
    }
   ],
   "source": [
    "ErrorDict"
   ]
  },
  {
   "cell_type": "code",
   "execution_count": 62,
   "metadata": {},
   "outputs": [],
   "source": [
    "#after evaluation ,ridge regression is the best fit for the given dataset"
   ]
  }
 ],
 "metadata": {
  "kernelspec": {
   "display_name": "Python 3",
   "language": "python",
   "name": "python3"
  },
  "language_info": {
   "codemirror_mode": {
    "name": "ipython",
    "version": 3
   },
   "file_extension": ".py",
   "mimetype": "text/x-python",
   "name": "python",
   "nbconvert_exporter": "python",
   "pygments_lexer": "ipython3",
   "version": "3.8.5"
  }
 },
 "nbformat": 4,
 "nbformat_minor": 4
}
